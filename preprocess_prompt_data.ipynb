{
 "cells": [
  {
   "cell_type": "markdown",
   "metadata": {},
   "source": [
    "### Run in ```rdkit2019``` environment"
   ]
  },
  {
   "cell_type": "code",
   "execution_count": 4,
   "metadata": {},
   "outputs": [
    {
     "name": "stdout",
     "output_type": "stream",
     "text": [
      "rdkit version:2019.03.2\n"
     ]
    }
   ],
   "source": [
    "import argparse\n",
    "import os\n",
    "import pandas as pd\n",
    "import random\n",
    "from rdkit import Chem\n",
    "from tqdm import tqdm\n",
    "from tqdm.contrib import tzip\n",
    "from e_smiles import get_e_smiles, merge_smiles, get_edit_from_e_smiles, merge_smiles_only, get_e_smiles_with_check\n",
    "from e_smiles import run_get_p_b_l_check, run_get_p_b_l_forward, get_b_smiles_check, iso_to_symbo, symbo_to_iso\n",
    "from tqdm.contrib.concurrent import process_map\n",
    "\n",
    "dic_str_to_num = {}\n",
    "for l in range(4,0,-1):\n",
    "    for a,i in zip([0,200,400,600,100,300,500,700],['','α','β','γ','δ','αδ','βδ','γδ']):\n",
    "        for b,j in zip([0,10,20,30],['','r','s','?']):\n",
    "            for c,k in zip([0,9],['','~']):\n",
    "                #print(a+b+c,k+j+i)\n",
    "                if len(k+j+i) == l:\n",
    "                    #dic_num_to_str[a+b+c] = k+j+i\n",
    "                    dic_str_to_num[k+j+i] = str(a+b+c)\n",
    "                    \n",
    "dic_num_to_str = {}\n",
    "for l in range(3,0,-1):\n",
    "    for a,i in zip([0,200,400,600,100,300,500,700],['','α','β','γ','δ','αδ','βδ','γδ']):\n",
    "        for b,j in zip([0,10,20,30],['','r','s','?']):\n",
    "            for c,k in zip([0,9],['','~']):\n",
    "                #print(a+b+c,k+j+i)\n",
    "                if len(str(a+b+c)) == l and len(k+j+i) != 0:\n",
    "                    #dic_num_to_str[a+b+c] = k+j+i\n",
    "                    dic_num_to_str[str(a+b+c)] = k+j+i"
   ]
  },
  {
   "cell_type": "markdown",
   "metadata": {},
   "source": [
    "#### Prepare Prompt SMILES by introducing one specific hints (src data)"
   ]
  },
  {
   "cell_type": "code",
   "execution_count": 10,
   "metadata": {},
   "outputs": [
    {
     "name": "stderr",
     "output_type": "stream",
     "text": [
      "/home/zhangwei/anaconda3/envs/rdkit2019/lib/python3.7/site-packages/ipykernel_launcher.py:6: TqdmWarning: Iterable length 4000800 > 1000 but `chunksize` is not set. This may seriously degrade multiprocess performance. Set `chunksize=1` or more.\n",
      "  \n"
     ]
    },
    {
     "data": {
      "application/vnd.jupyter.widget-view+json": {
       "model_id": "9c50105aa4d84083abce8698f47473c1",
       "version_major": 2,
       "version_minor": 0
      },
      "text/plain": [
       "  0%|          | 0/4000800 [00:00<?, ?it/s]"
      ]
     },
     "metadata": {},
     "output_type": "display_data"
    },
    {
     "name": "stdout",
     "output_type": "stream",
     "text": [
      "3994522/4000800\n"
     ]
    },
    {
     "name": "stderr",
     "output_type": "stream",
     "text": [
      "  0%|          | 0/3994522 [00:00<?, ?it/s]/home/zhangwei/anaconda3/envs/rdkit2019/lib/python3.7/site-packages/ipykernel_launcher.py:14: TqdmWarning: Iterable length 3994522 > 1000 but `chunksize` is not set. This may seriously degrade multiprocess performance. Set `chunksize=1` or more.\n",
      "  \n",
      "100%|██████████| 3994522/3994522 [02:47<00:00, 23793.42it/s]\n"
     ]
    },
    {
     "data": {
      "application/vnd.jupyter.widget-view+json": {
       "model_id": "63b71bf6698642a2bdab2d78624100c3",
       "version_major": 2,
       "version_minor": 0
      },
      "text/plain": [
       "  0%|          | 0/3994522 [00:00<?, ?it/s]"
      ]
     },
     "metadata": {},
     "output_type": "display_data"
    },
    {
     "name": "stderr",
     "output_type": "stream",
     "text": [
      "100%|██████████| 3994522/3994522 [00:43<00:00, 92775.72it/s]"
     ]
    },
    {
     "name": "stdout",
     "output_type": "stream",
     "text": [
      "3994522/4000800\n"
     ]
    },
    {
     "name": "stderr",
     "output_type": "stream",
     "text": [
      "\n"
     ]
    }
   ],
   "source": [
    "# Train (aug_100)\n",
    "augmentated_df = pd.read_csv(\"datasets/50k_aug/2023_1_8_train_r100.csv\")\n",
    "df = augmentated_df.reset_index(drop = True)\n",
    "\n",
    "p_b_l = process_map(run_get_p_b_l_check, df['reactants>reagents>production'], max_workers=20)\n",
    "p_b_l = [i for i in p_b_l if 'error' not in i]\n",
    "print(f\"{len(p_b_l)}/{len(df)}\")\n",
    "\n",
    "p_b_l_prompt = []\n",
    "for i in range(len(p_b_l)):\n",
    "    p_b_l_prompt.append([p_b_l[i][0],[random.choice(p_b_l[i][1])],[],[],[],[],[]])\n",
    "\n",
    "prompt_smiles_lis = process_map(get_b_smiles_check, tqdm(p_b_l_prompt), max_workers = 20)\n",
    "prompt_smiles_lis = [i for i in prompt_smiles_lis  if 'prompt_smiles_lis' not in i]\n",
    "prompt_smiles_lis = [iso_to_symbo(prompt_smiles, dic_num_to_str) for prompt_smiles in tqdm(prompt_smiles_lis)]\n",
    "print(f\"{len(p_b_l)}/{len(df)}\")\n",
    "\n",
    "# Write into file\n",
    "src = [\" \".join(list(s)) for s in prompt_smiles_lis]\n",
    "src_file_path = f\"datasets/50k_ReactSeq_with_prompt/aug100_train/src_aug100_train.txt\"\n",
    "os.makedirs(os.path.dirname(src_file_path), exist_ok=True)\n",
    "\n",
    "with open(src_file_path, \"w\") as f:\n",
    "    for line in src: \n",
    "        f.write(line+'\\n')"
   ]
  },
  {
   "cell_type": "code",
   "execution_count": null,
   "metadata": {},
   "outputs": [
    {
     "name": "stderr",
     "output_type": "stream",
     "text": [
      "/home/zhangwei/anaconda3/envs/rdkit2019/lib/python3.7/site-packages/ipykernel_launcher.py:12: TqdmWarning: Iterable length 99900 > 1000 but `chunksize` is not set. This may seriously degrade multiprocess performance. Set `chunksize=1` or more.\n",
      "  if sys.path[0] == \"\":\n"
     ]
    },
    {
     "data": {
      "application/vnd.jupyter.widget-view+json": {
       "model_id": "cd99977e21fa40a28a1988b25a6f2830",
       "version_major": 2,
       "version_minor": 0
      },
      "text/plain": [
       "  0%|          | 0/99900 [00:00<?, ?it/s]"
      ]
     },
     "metadata": {},
     "output_type": "display_data"
    },
    {
     "name": "stdout",
     "output_type": "stream",
     "text": [
      "99900/99900\n"
     ]
    },
    {
     "name": "stderr",
     "output_type": "stream",
     "text": [
      "  0%|          | 0/99900 [00:00<?, ?it/s]/home/zhangwei/anaconda3/envs/rdkit2019/lib/python3.7/site-packages/ipykernel_launcher.py:20: TqdmWarning: Iterable length 99900 > 1000 but `chunksize` is not set. This may seriously degrade multiprocess performance. Set `chunksize=1` or more.\n",
      "100%|██████████| 99900/99900 [00:04<00:00, 24576.11it/s]\n"
     ]
    },
    {
     "data": {
      "application/vnd.jupyter.widget-view+json": {
       "model_id": "79f7538057004176aa687bc79e84ddc2",
       "version_major": 2,
       "version_minor": 0
      },
      "text/plain": [
       "  0%|          | 0/99900 [00:00<?, ?it/s]"
      ]
     },
     "metadata": {},
     "output_type": "display_data"
    },
    {
     "name": "stderr",
     "output_type": "stream",
     "text": [
      "100%|██████████| 99900/99900 [00:01<00:00, 81180.94it/s]"
     ]
    },
    {
     "name": "stdout",
     "output_type": "stream",
     "text": [
      "99900/99900\n"
     ]
    },
    {
     "name": "stderr",
     "output_type": "stream",
     "text": [
      "\n"
     ]
    }
   ],
   "source": [
    "# Valid (aug_20)\n",
    "augmentated_df = pd.read_csv(\"datasets/50k_aug/2023_1_1_eval_r20.csv\")\n",
    "idx_to_drop = [2302, 2527, 2950, 4368, 4863, 4890]\n",
    "rows_to_drop = []\n",
    "for j in range(20):\n",
    "    rows_to_drop += [j*5001 + i for i in idx_to_drop]            \n",
    "df = augmentated_df.drop(rows_to_drop)\n",
    "df = df.reset_index(drop = True)\n",
    "rxn_class_list = [f\"class_{n}\" for n in df['class']]    \n",
    "\n",
    "p_b_l = process_map(run_get_p_b_l_forward, df['reactants>reagents>production'], max_workers=20)\n",
    "p_b_l = [i for i in p_b_l if 'error' not in i]\n",
    "print(f\"{len(p_b_l)}/{len(df)}\")\n",
    "\n",
    "p_b_l_prompt = []\n",
    "for i in range(len(p_b_l)):\n",
    "    p_b_l_prompt.append([p_b_l[i][0],[random.choice(p_b_l[i][1])],[],[],[],[],[]])\n",
    "\n",
    "prompt_smiles_lis = process_map(get_b_smiles_check, tqdm(p_b_l_prompt), max_workers = 20)\n",
    "prompt_smiles_lis = [i for i in prompt_smiles_lis  if 'prompt_smiles_lis' not in i]\n",
    "prompt_smiles_lis = [iso_to_symbo(prompt_smiles, dic_num_to_str) for prompt_smiles in tqdm(prompt_smiles_lis)]\n",
    "print(f\"{len(p_b_l)}/{len(df)}\")\n",
    "\n",
    "# Write into file\n",
    "src = [\" \".join(list(s)) for s in prompt_smiles_lis]\n",
    "src_file_path = f\"datasets/50k_ReactSeq_with_prompt/aug20_val/src_aug20_val.txt\"\n",
    "os.makedirs(os.path.dirname(src_file_path), exist_ok=True)\n",
    "with open(src_file_path, \"w\") as f:\n",
    "    for line in src: \n",
    "        f.write(line+'\\n')"
   ]
  },
  {
   "cell_type": "code",
   "execution_count": 8,
   "metadata": {},
   "outputs": [
    {
     "name": "stderr",
     "output_type": "stream",
     "text": [
      "/home/zhangwei/anaconda3/envs/rdkit2019/lib/python3.7/site-packages/ipykernel_launcher.py:12: TqdmWarning: Iterable length 100000 > 1000 but `chunksize` is not set. This may seriously degrade multiprocess performance. Set `chunksize=1` or more.\n",
      "  if sys.path[0] == \"\":\n"
     ]
    },
    {
     "data": {
      "application/vnd.jupyter.widget-view+json": {
       "model_id": "e3824b0061d049aca98a5a40793c44cf",
       "version_major": 2,
       "version_minor": 0
      },
      "text/plain": [
       "  0%|          | 0/100000 [00:00<?, ?it/s]"
      ]
     },
     "metadata": {},
     "output_type": "display_data"
    },
    {
     "name": "stdout",
     "output_type": "stream",
     "text": [
      "100000/100000\n"
     ]
    },
    {
     "name": "stderr",
     "output_type": "stream",
     "text": [
      "  0%|          | 0/100000 [00:00<?, ?it/s]/home/zhangwei/anaconda3/envs/rdkit2019/lib/python3.7/site-packages/ipykernel_launcher.py:20: TqdmWarning: Iterable length 100000 > 1000 but `chunksize` is not set. This may seriously degrade multiprocess performance. Set `chunksize=1` or more.\n",
      "100%|██████████| 100000/100000 [00:04<00:00, 23567.58it/s]\n"
     ]
    },
    {
     "data": {
      "application/vnd.jupyter.widget-view+json": {
       "model_id": "959ff9ba0cc74cdcaef7c3c4a5f6eb8c",
       "version_major": 2,
       "version_minor": 0
      },
      "text/plain": [
       "  0%|          | 0/100000 [00:00<?, ?it/s]"
      ]
     },
     "metadata": {},
     "output_type": "display_data"
    },
    {
     "name": "stderr",
     "output_type": "stream",
     "text": [
      "100%|██████████| 100000/100000 [00:01<00:00, 80062.63it/s]"
     ]
    },
    {
     "name": "stdout",
     "output_type": "stream",
     "text": [
      "100000/100000\n"
     ]
    },
    {
     "name": "stderr",
     "output_type": "stream",
     "text": [
      "\n"
     ]
    }
   ],
   "source": [
    "# Test (aug_20)\n",
    "augmentated_df = pd.read_csv(\"datasets/50k_aug/2023_1_1_test_r20.csv\")\n",
    "idx_to_drop = [822, 1282, 1490, 1558, 2810, 3487, 4958]\n",
    "rows_to_drop = []\n",
    "for j in range(20):\n",
    "    rows_to_drop += [j*5007 + i for i in idx_to_drop]\n",
    "df = augmentated_df.drop(rows_to_drop)\n",
    "df = df.reset_index(drop = True)\n",
    "rxn_class_list = [f\"class_{n}\" for n in df['class']]\n",
    "\n",
    "p_b_l = process_map(run_get_p_b_l_forward, df['reactants>reagents>production'], max_workers=20)\n",
    "p_b_l = [i for i in p_b_l if 'error' not in i]\n",
    "print(f\"{len(p_b_l)}/{len(df)}\")\n",
    "\n",
    "p_b_l_prompt = []\n",
    "for i in range(len(p_b_l)):\n",
    "    p_b_l_prompt.append([p_b_l[i][0],[random.choice(p_b_l[i][1])],[],[],[],[],[]])\n",
    "\n",
    "prompt_smiles_lis = process_map(get_b_smiles_check, tqdm(p_b_l_prompt), max_workers = 20)\n",
    "prompt_smiles_lis = [i for i in prompt_smiles_lis  if 'prompt_smiles_lis' not in i]\n",
    "prompt_smiles_lis = [iso_to_symbo(prompt_smiles, dic_num_to_str) for prompt_smiles in tqdm(prompt_smiles_lis)]\n",
    "print(f\"{len(p_b_l)}/{len(df)}\")\n",
    "\n",
    "# Write into file\n",
    "src = [\" \".join(list(s)) for s in prompt_smiles_lis]\n",
    "src_file_path = f\"datasets/50k_ReactSeq_with_prompt/aug20_test/src_aug20_test.txt\"\n",
    "os.makedirs(os.path.dirname(src_file_path), exist_ok=True)\n",
    "\n",
    "with open(src_file_path, \"w\") as f:\n",
    "    for line in src: \n",
    "        f.write(line+'\\n')"
   ]
  },
  {
   "cell_type": "markdown",
   "metadata": {},
   "source": [
    "### Target Data are same as ```50k_ReactSeq``` (tgt data)"
   ]
  },
  {
   "cell_type": "code",
   "execution_count": null,
   "metadata": {},
   "outputs": [],
   "source": [
    "!cp \"datasets/50k_ReactSeq/aug20_test/tgt_aug20_test.txt\" \"datasets/50k_ReactSeq_with_prompt/aug20_test/tgt_aug20_test.txt\"\n",
    "!cp \"datasets/50k_ReactSeq/aug20_val/tgt_aug20_val.txt\" \"datasets/50k_ReactSeq_with_prompt/aug20_val/tgt_aug20_val.txt\"\n",
    "!cp \"datasets/50k_ReactSeq/aug100_train/tgt_aug100_train.txt\" \"datasets/50k_ReactSeq_with_prompt/aug100_train/tgt_aug100_train.txt\""
   ]
  }
 ],
 "metadata": {
  "kernelspec": {
   "display_name": "rdkit2019",
   "language": "python",
   "name": "python3"
  },
  "language_info": {
   "codemirror_mode": {
    "name": "ipython",
    "version": 3
   },
   "file_extension": ".py",
   "mimetype": "text/x-python",
   "name": "python",
   "nbconvert_exporter": "python",
   "pygments_lexer": "ipython3",
   "version": "3.7.0"
  }
 },
 "nbformat": 4,
 "nbformat_minor": 2
}
